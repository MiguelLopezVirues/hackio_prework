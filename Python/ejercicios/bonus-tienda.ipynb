{
 "cells": [
  {
   "cell_type": "markdown",
   "metadata": {},
   "source": [
    "<div style=\"text-align: center;\">\n",
    "  <img src=\"https://github.com/Hack-io-Data/Imagenes/blob/main/01-LogosHackio/logo_celeste@4x.png?raw=true\" alt=\"esquema\" />\n",
    "</div>\n"
   ]
  },
  {
   "cell_type": "markdown",
   "metadata": {},
   "source": [
    "En este ejercicio, se te pedirá que escribas un programa en Python que utilice condicionales para determinar el monto final de una compra en una tienda en línea, después de aplicar un descuento. El programa debe hacer lo siguiente:\n",
    "\n",
    "1. Solicita al usuario que ingrese el precio original de un artículo.\n",
    "\n",
    "2. Pregunta al usuario si tiene un cupón de descuento (respuesta sí o no).\n",
    "\n",
    "3. Si el usuario responde que sí, solicita que ingrese el valor del cupón de descuento.\n",
    "\n",
    "4. Aplica el descuento al precio original del artículo, siempre y cuando el valor del cupón sea válido (es decir, mayor a cero). Por ejemplo, descuento de 15€. \n",
    "\n",
    "5. Muestra el precio final de la compra, teniendo en cuenta el descuento aplicado o sin él. \n",
    "\n",
    "6. Recuerda utilizar estructuras de control de flujo como if, elif y else para llevar a cabo estas acciones en tu programa de Python."
   ]
  },
  {
   "cell_type": "code",
   "execution_count": 3,
   "metadata": {},
   "outputs": [
    {
     "name": "stdout",
     "output_type": "stream",
     "text": [
      "El precio final es de 20.0€\n"
     ]
    }
   ],
   "source": [
    "def calcular_monto_final():\n",
    "    precio = float(input(\"Ingrese el precio del artículo en €: \"))\n",
    "    tiene_descuento = input(\"¿Tiene decuento?: \")\n",
    "    if tiene_descuento.lower() == \"si\":\n",
    "        descuento = float(input(\"Escriba el valor del descuento en €, por favor: \"))\n",
    "        if descuento > 0:\n",
    "            precio = precio-descuento\n",
    "        else:\n",
    "            print(\"El valor del descuento debe ser válido\")\n",
    "    print(f\"El precio final es de {precio}€\")\n",
    "        \n",
    "calcular_monto_final()"
   ]
  },
  {
   "cell_type": "markdown",
   "metadata": {},
   "source": [
    "Modifica el programa anterior para que el usuario ingrese un porcentaje de descuento en lugar de un valor fijo (por ejemplo, 30%). Aplica el descuento en base al porcentaje ingresado."
   ]
  },
  {
   "cell_type": "code",
   "execution_count": 5,
   "metadata": {},
   "outputs": [
    {
     "name": "stdout",
     "output_type": "stream",
     "text": [
      "El precio final es de 31.5€\n"
     ]
    }
   ],
   "source": [
    "def calcular_monto_final():\n",
    "    precio = float(input(\"Ingrese el precio del artículo en €: \"))\n",
    "    tiene_descuento = input(\"¿Tiene decuento?: \")\n",
    "    if tiene_descuento.lower() == \"si\":\n",
    "        descuento = float(input(\"Escriba el valor del descuento en %, por favor: \"))\n",
    "        if descuento > 0:\n",
    "            precio = precio*(1-descuento/100)\n",
    "        else:\n",
    "            print(\"El valor del descuento debe ser válido\")\n",
    "    print(f\"El precio final es de {precio}€\")\n",
    "        \n",
    "calcular_monto_final()"
   ]
  },
  {
   "cell_type": "markdown",
   "metadata": {},
   "source": [
    "Modifica el programa anterior agregando un límite al descuento, donde el descuento mínimo sea del 5% y el máximo del 50%. Si el usuario ingresa un porcentaje fuera de este rango, notifíquele y aplique el descuento mínimo o máximo según sea el caso."
   ]
  },
  {
   "cell_type": "code",
   "execution_count": 8,
   "metadata": {},
   "outputs": [
    {
     "name": "stdout",
     "output_type": "stream",
     "text": [
      "Descuento fuera de rango. Se aplica el mínimo\n",
      "El precio final es de 47.5€\n"
     ]
    }
   ],
   "source": [
    "def calcular_monto_final():\n",
    "    precio = float(input(\"Ingrese el precio del artículo en €: \"))\n",
    "    tiene_descuento = input(\"¿Tiene decuento?: \")\n",
    "    if tiene_descuento.lower() == \"si\":\n",
    "        descuento = float(input(\"Escriba el valor del descuento en %, por favor: \"))\n",
    "        if 5 < descuento < 50:\n",
    "            precio = precio*(1-descuento/100)\n",
    "        elif descuento < 5:\n",
    "            print(\"Descuento fuera de rango. Se aplica el mínimo\")\n",
    "            precio = precio*0.95\n",
    "        else:\n",
    "            print(\"Descuento fuera de rango. Se aplica el máximo\")\n",
    "            precio = precio*0.5\n",
    "    print(f\"El precio final es de {precio}€\")\n",
    "\n",
    "calcular_monto_final()"
   ]
  },
  {
   "cell_type": "markdown",
   "metadata": {},
   "source": [
    "Crea un programa nuevo que permita al usuario ingresar varios artículos, cada uno con su precio original y cupón de descuento. Aplica los descuentos correspondientes a cada producto y muestra el monto total final de la compra."
   ]
  },
  {
   "cell_type": "code",
   "execution_count": 11,
   "metadata": {},
   "outputs": [
    {
     "data": {
      "text/plain": [
       "{'camiseta': 25.0, 'gorra': 28.5, 'pantalones': 35.0}"
      ]
     },
     "execution_count": 11,
     "metadata": {},
     "output_type": "execute_result"
    }
   ],
   "source": [
    "def calcular_monto_final_conjunto(precios_descuentos):\n",
    "    discounted_prices = {item: data.get(\"precio\")*0.95 if data.get(\"descuento\") <= 5 else data.get(\"precio\")*min(0.5,data.get(\"precio\")/100) for item,data  in precios_descuentos.items()}\n",
    "    return discounted_prices\n",
    "\n",
    "consulta_precios_final = {\"camiseta\":{\"precio\":50,\"descuento\":30},\n",
    "                          \"gorra\":{\"precio\":30,\"descuento\":3.5},\n",
    "                          \"pantalones\":{\"precio\":70,\"descuento\":55}}\n",
    "\n",
    "calcular_monto_final_conjunto(consulta_precios_final)"
   ]
  },
  {
   "cell_type": "markdown",
   "metadata": {},
   "source": [
    "Crea un nuevo programa que permita aplicar descuentos por categorías. En este caso, nuestra tienda aplicará descuentos en función de la categoría (por ejemplo, electrónica, ropa, juguetes). Pregunta al usuario a que categoría pertenece su producto y aplica el descuento correspondiente a la categoría. Debes solicitar al usuario que ingrese la categoría del articulo y el precio para aplicarle el descuento. "
   ]
  },
  {
   "cell_type": "code",
   "execution_count": 17,
   "metadata": {},
   "outputs": [
    {
     "name": "stdout",
     "output_type": "stream",
     "text": [
      "El precio final es de 47.5€\n"
     ]
    }
   ],
   "source": [
    "def calcular_monto_final_categorias():\n",
    "    descuentos_categoria = {\"juguetes\": 0.3,\n",
    "                            \"electronica\": 0.15,\n",
    "                            \"ropa\":0.2}\n",
    "    categoria = input(\"Bienvenido a las rebajas del Corte Inglés ¿A qué categoría pertenece tu artículo?: \")\n",
    "    precio = float(input(\"¿Cuál es su precio?: \"))*(1-descuentos_categoria.get(categoria,0.05))\n",
    "    print(f\"El precio final es de {precio}€\")\n",
    "\n",
    "calcular_monto_final_categorias()"
   ]
  },
  {
   "cell_type": "markdown",
   "metadata": {},
   "source": [
    "Crea un nuevo programa que aplique descuentos automáticos en función de la fecha actual. Aplica un descuento del 10% en compras realizadas entre lunes y viernes o un descuento del 15% en compras realizadas durante los fines de semana."
   ]
  },
  {
   "cell_type": "code",
   "execution_count": 20,
   "metadata": {},
   "outputs": [
    {
     "name": "stdout",
     "output_type": "stream",
     "text": [
      "El nuevo precio es de 42.5€\n"
     ]
    }
   ],
   "source": [
    "from datetime import datetime\n",
    "def calcular_monto_final_dia():\n",
    "    precio = float(input(\"¿Cuál es su precio?: \"))\n",
    "    if datetime.today().weekday() > 4:\n",
    "        discount = 0.15\n",
    "    else:\n",
    "        discount = 0.1\n",
    "    precio = precio*(1-discount)\n",
    "    print(f\"El nuevo precio es de {precio}€\")\n",
    "\n",
    "calcular_monto_final_dia()"
   ]
  },
  {
   "cell_type": "markdown",
   "metadata": {},
   "source": [
    "Crea un programa nuevo que implemente un sistema de membresía donde los usuarios registrados obtengan un descuento adicional del 5%. Solicita al usuario que ingrese su nombre de usuario y contraseña para verificar su membresía y aplique el descuento adicional si corresponde. \n",
    "\n",
    "📝 Nota: Para este ejercicio solo tendremos un usuario registrado. El usuario es `USUARIO` y la contraseña es  `USUARIO123`. \n"
   ]
  },
  {
   "cell_type": "code",
   "execution_count": null,
   "metadata": {},
   "outputs": [],
   "source": []
  },
  {
   "cell_type": "markdown",
   "metadata": {},
   "source": [
    "Crea un nuevo programa que ofrezca un descuento del 10% adicional si el usuario compra más de 5 artículos del mismo tipo. Debes verificar la cantidad de productos comprados y aplicar el descuento adicional si corresponde.\n"
   ]
  },
  {
   "cell_type": "code",
   "execution_count": null,
   "metadata": {},
   "outputs": [],
   "source": []
  },
  {
   "cell_type": "markdown",
   "metadata": {},
   "source": [
    "Crea un nuevo programa que ofrezca descuentos progresivos en función del volumen de compra. Aplica un descuento del 5% para compras entre 100€ y 200€, un descuento del 10% para compras entre 200€ y 500€ y un descuento del 15% para compras superiores a 500€."
   ]
  },
  {
   "cell_type": "code",
   "execution_count": null,
   "metadata": {},
   "outputs": [],
   "source": []
  },
  {
   "cell_type": "markdown",
   "metadata": {},
   "source": [
    "Crea un nuevo programa  que ofrezca un descuento adicional del 3% si el usuario paga con tarjeta de crédito o débito. Solicita al usuario que ingrese el método de pago y el descuento original, por último aplica el descuento si corresponde."
   ]
  },
  {
   "cell_type": "code",
   "execution_count": null,
   "metadata": {},
   "outputs": [],
   "source": []
  }
 ],
 "metadata": {
  "kernelspec": {
   "display_name": "maven_course",
   "language": "python",
   "name": "maven_course"
  },
  "language_info": {
   "codemirror_mode": {
    "name": "ipython",
    "version": 3
   },
   "file_extension": ".py",
   "mimetype": "text/x-python",
   "name": "python",
   "nbconvert_exporter": "python",
   "pygments_lexer": "ipython3",
   "version": "3.12.3"
  }
 },
 "nbformat": 4,
 "nbformat_minor": 2
}
