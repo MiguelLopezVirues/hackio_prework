{
 "cells": [
  {
   "cell_type": "markdown",
   "metadata": {},
   "source": [
    "<div style=\"text-align: center;\">\n",
    "  <img src=\"https://github.com/Hack-io-Data/Imagenes/blob/main/01-LogosHackio/logo_celeste@4x.png?raw=true\" alt=\"logo hack(io)\" />\n",
    "</div>"
   ]
  },
  {
   "cell_type": "markdown",
   "metadata": {},
   "source": [
    "#### 1. Escribe un programa que determine si un número es par o impar.\n",
    "\n"
   ]
  },
  {
   "cell_type": "code",
   "execution_count": 5,
   "metadata": {},
   "outputs": [
    {
     "name": "stdout",
     "output_type": "stream",
     "text": [
      "No has introducido un número entero.\n"
     ]
    }
   ],
   "source": [
    "try:\n",
    "    numero = int(input(\"Escribe un número entero: \"))\n",
    "    if numero % 2 == 0:\n",
    "        print(\"El número es par.\")\n",
    "    else:\n",
    "        print(\"El número es impar.\")\n",
    "except:\n",
    "    print(\"No has introducido un número entero.\")"
   ]
  },
  {
   "cell_type": "markdown",
   "metadata": {},
   "source": [
    "#### 2. Genera un programa que nos diga si es de noche, de día o tarde según la hora proporcionada por el usuario."
   ]
  },
  {
   "cell_type": "code",
   "execution_count": 6,
   "metadata": {},
   "outputs": [
    {
     "name": "stdout",
     "output_type": "stream",
     "text": [
      "Es de tarde.\n"
     ]
    }
   ],
   "source": [
    "mañana = 4\n",
    "tarde = 12\n",
    "noche = 9\n",
    "try:\n",
    "    hora_actual = int(input(\"Introduce la hora en números enteros: \"))\n",
    "    if hora_actual < mañana:\n",
    "        print(\"Es de noche\")\n",
    "    elif hora_actual < tarde:\n",
    "        print(\"Es de día.\")\n",
    "    else:\n",
    "        print(\"Es de tarde.\")\n",
    "except:\n",
    "    print(\"No has introducido la hora como número entero.\")"
   ]
  },
  {
   "cell_type": "markdown",
   "metadata": {},
   "source": [
    "#### 3. Dado un nombre imprime un saludo personalizado."
   ]
  },
  {
   "cell_type": "code",
   "execution_count": 8,
   "metadata": {},
   "outputs": [
    {
     "name": "stdout",
     "output_type": "stream",
     "text": [
      "Hola miguel, ¿por qué hablas contigo mismo? Necesitas un psicólogo.\n"
     ]
    }
   ],
   "source": [
    "usuario = input(\"Introduce tu nombre: \")\n",
    "if usuario.lower() == \"ana\" or usuario.lower() == \"jeancha\":\n",
    "    print(f\"Hola {usuario}, ¿qué tal? ¡Vamos a frikear!\")\n",
    "elif usuario.lower() == \"miguel\":\n",
    "    print(f\"Hola {usuario}, ¿por qué hablas contigo mismo? Necesitas un psicólogo.\")\n",
    "else:\n",
    "    print(f\"Hola {usuario} ¡Encantado de conocerte!\")"
   ]
  },
  {
   "cell_type": "markdown",
   "metadata": {},
   "source": [
    "#### 4. Escribe un programa que determine qué calificación en texto tiene un alumno en base a su calificación numérica. Las reglas de calificación son: \n",
    "\n",
    "- 0 - 69 insuficiente\n",
    "\n",
    "- 70 - 79 bien\n",
    "\n",
    "- 80 - 89 muy bien\n",
    "\n",
    "- 90 - 100 excelente\n"
   ]
  },
  {
   "cell_type": "code",
   "execution_count": 9,
   "metadata": {},
   "outputs": [
    {
     "name": "stdout",
     "output_type": "stream",
     "text": [
      "Muy bien.\n"
     ]
    }
   ],
   "source": [
    "try:\n",
    "    nota_numerica = int(input(\"Introduce tu nota numérica: \"))\n",
    "    if nota_numerica <= 69:\n",
    "        print(\"Insuficiente.\")\n",
    "    elif nota_numerica <= 79:\n",
    "        print(\"Bien.\")\n",
    "    elif nota_numerica <= 89:\n",
    "        print(\"Muy bien.\")\n",
    "    else:\n",
    "        print(\"Excelente.\")\n",
    "except:\n",
    "    print(\"No has introducido la hora como número entero.\")"
   ]
  },
  {
   "cell_type": "markdown",
   "metadata": {},
   "source": [
    "#### 5. Escribe un programa que imprima el día de la semana, dado un número del 1 al 7.\n"
   ]
  },
  {
   "cell_type": "code",
   "execution_count": 10,
   "metadata": {},
   "outputs": [
    {
     "name": "stdout",
     "output_type": "stream",
     "text": [
      "Domingo\n"
     ]
    }
   ],
   "source": [
    "dict = {\n",
    "    1: \"Lunes\",\n",
    "    2: \"Martes\",\n",
    "    3: \"Miércoles\",\n",
    "    4: \"Jueves\",\n",
    "    5: \"Viernes\",\n",
    "    6: \"Sábado\",\n",
    "    7: \"Domingo\"\n",
    "}\n",
    "\n",
    "try:\n",
    "    dia_semana_num = int(input(\"Introduce un número del 1 al 7: \"))\n",
    "    dia_semana_text = dict.get(dia_semana_num)\n",
    "    print(dia_semana_text)\n",
    "except:\n",
    "    print(\"No has introducido un número del 1 al 7.\")"
   ]
  },
  {
   "cell_type": "markdown",
   "metadata": {},
   "source": [
    "#### 6. Escribe un programa que determine si un número es positivo, negativo o cero."
   ]
  },
  {
   "cell_type": "code",
   "execution_count": 11,
   "metadata": {},
   "outputs": [
    {
     "name": "stdout",
     "output_type": "stream",
     "text": [
      "El número es positivo.\n"
     ]
    }
   ],
   "source": [
    "try:\n",
    "    numero = float(input(\"Introduce un número: \"))\n",
    "    if numero < 0:\n",
    "        print(\"El número es negativo.\")\n",
    "    elif numero == 0:\n",
    "        print(\"El número es cero.\")\n",
    "    else:\n",
    "        print(\"El número es positivo.\")\n",
    "except:\n",
    "    print(\"No has introducido un número.\")"
   ]
  },
  {
   "cell_type": "markdown",
   "metadata": {},
   "source": [
    "#### 7. Escribe un programa que determine si una persona puede conducir o no. La edad mínima para conducir es 18 años. \n"
   ]
  },
  {
   "cell_type": "code",
   "execution_count": null,
   "metadata": {},
   "outputs": [],
   "source": [
    "try:\n",
    "    numero = float(input(\"Introduce tu edad: \"))\n",
    "    if numero >= 18:\n",
    "        print(\"Enhorabuena, puedes conseguir el permiso de conducir.\")\n",
    "    else:\n",
    "        print(\"De vuelta pa casa, enano.\")\n",
    "except:\n",
    "    print(\"No has introducido un número.\")"
   ]
  },
  {
   "cell_type": "markdown",
   "metadata": {},
   "source": [
    "#### 8. Escribe un programa que determine si un estudiante aprobó o suspendió un examen."
   ]
  },
  {
   "cell_type": "code",
   "execution_count": 13,
   "metadata": {},
   "outputs": [
    {
     "name": "stdout",
     "output_type": "stream",
     "text": [
      "¿Tu que vas de sobrao o qué?. Del 1 al 10 por favor.\n"
     ]
    }
   ],
   "source": [
    "try:\n",
    "    numero = float(input(\"Introduce una nota del 1 al 10. Se aceptan decimales: \"))\n",
    "    if numero > 10:\n",
    "        print(\"¿Tu que vas de sobrao o qué?. Del 1 al 10 por favor.\")\n",
    "    elif numero >= 5:\n",
    "        print(\"¡Has aprobado!.\")\n",
    "    else:\n",
    "        print(\"Po has suspendido. Habé estudiao!.\")\n",
    "except:\n",
    "    print(\"No has introducido un número.\")"
   ]
  },
  {
   "cell_type": "markdown",
   "metadata": {},
   "source": [
    "#### 9. Escribe un programa que determine si un número es múltiplo de 3 y 5.\n"
   ]
  },
  {
   "cell_type": "code",
   "execution_count": 19,
   "metadata": {},
   "outputs": [
    {
     "name": "stdout",
     "output_type": "stream",
     "text": [
      "¡Bien! Es múltiplo de 3 y de 5.\n"
     ]
    }
   ],
   "source": [
    "try:\n",
    "    numero = float(input(\"Introduce un número múltiplo de 3 y de 5:\"))\n",
    "    if numero % 3 == 0 and numero % 5 == 0:\n",
    "        print(\"¡Bien! Es múltiplo de 3 y de 5.\")\n",
    "    elif numero % 3 == 0:\n",
    "        print(\"Es multiplo de 3, pero no de 5 :/\")\n",
    "    elif numero % 5 == 0:\n",
    "        print(\"Es múltiplo de 5, pero no de 3 :/\")\n",
    "    else:\n",
    "        print(\"No das una colega :(\")\n",
    "except:\n",
    "    print(\"No has introducido un número.\")"
   ]
  },
  {
   "cell_type": "markdown",
   "metadata": {},
   "source": [
    "#### 10. Escribe un programa que determine si un número es par o impar.\n"
   ]
  },
  {
   "cell_type": "code",
   "execution_count": 20,
   "metadata": {},
   "outputs": [
    {
     "name": "stdout",
     "output_type": "stream",
     "text": [
      "El número es par.\n"
     ]
    }
   ],
   "source": [
    "try:\n",
    "    numero = int(input(\"Escribe un número entero: \"))\n",
    "    if numero % 2 == 0:\n",
    "        print(\"El número es par.\")\n",
    "    else:\n",
    "        print(\"El número es impar.\")\n",
    "except:\n",
    "    print(\"No has introducido un número entero.\")"
   ]
  }
 ],
 "metadata": {
  "kernelspec": {
   "display_name": "maven_course",
   "language": "python",
   "name": "maven_course"
  },
  "language_info": {
   "codemirror_mode": {
    "name": "ipython",
    "version": 3
   },
   "file_extension": ".py",
   "mimetype": "text/x-python",
   "name": "python",
   "nbconvert_exporter": "python",
   "pygments_lexer": "ipython3",
   "version": "3.12.3"
  }
 },
 "nbformat": 4,
 "nbformat_minor": 2
}
