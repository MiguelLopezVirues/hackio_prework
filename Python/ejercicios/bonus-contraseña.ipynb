{
 "cells": [
  {
   "cell_type": "markdown",
   "metadata": {},
   "source": [
    "<div style=\"text-align: center;\">\n",
    "  <img src=\"https://github.com/Hack-io-Data/Imagenes/blob/main/01-LogosHackio/logo_celeste@4x.png?raw=true\" alt=\"esquema\" />\n",
    "</div>\n"
   ]
  },
  {
   "cell_type": "markdown",
   "metadata": {},
   "source": [
    "# Comprobación de calidad de contraseñas\n",
    "\n",
    "En este ejercicio, tendrás que generar un programa que sea capaz de comprobar la calidad de contraseñas. La seguridad de nuestras contraseñas es fundamental para proteger nuestra información personal y evitar posibles ataques cibernéticos. Para ello, vamos a crear una función llamada `verificar_seguridad_contrasena` que evaluará la calidad de una contraseña. Esta función tomará como argumento la contraseña a evaluar y devolverá si la contraseña es segura o no basado en los siguientes criterios:\n",
    "\n",
    "1. La contraseña deberá tener al menos 8 caracteres.\n",
    "\n",
    "2. La contraseña deberá tener al menos una letra mayúscula.\n",
    "\n",
    "3. La contraseña deberá tener al menos una letra minúscula. \n",
    "\n",
    "4. La contraseña deberá tener al menos un número. \n",
    "\n",
    "5. La contraseña deberá tener al menos un caracter especial. \n",
    "\n",
    "6. La contraseña no deberá tener espacios en blanco. \n",
    "\n",
    "7. La contraseña no deberá tener caracteres repetidos. \n"
   ]
  },
  {
   "cell_type": "code",
   "execution_count": 16,
   "metadata": {},
   "outputs": [
    {
     "name": "stdout",
     "output_type": "stream",
     "text": [
      "La contraseña no cumple las siguientes condiciones:\n",
      "\n",
      "La contraseña no deberá tener caracteres repetidos.\n"
     ]
    }
   ],
   "source": [
    "def verificar_seguridad_contraseña(password):\n",
    "    \"\"\"\n",
    "    Comprueba la seguridad de una contraseña dada en base a las condiciones de la variable local 'conditions'.\n",
    "\n",
    "    Si la contraseña es segura, devuelve True e imprime en pantalla que la contraseña es segura.\n",
    "    Si la contraseña no es segura, devuelve False e imprime las condiciones no cumplidas por la contraseña.\n",
    "\n",
    "    Params:\n",
    "        password (str).\n",
    "\n",
    "    Returns:\n",
    "        bool.\n",
    "    \"\"\"\n",
    "    conditions = {\"verif1\": \"La contraseña deberá tener al menos 8 caracteres.\",\n",
    "        \"verif2\": \"La contraseña deberá tener al menos una letra mayúscula.\",\n",
    "        \"verif3\": \"La contraseña deberá tener al menos una letra minúscula.\",\n",
    "        \"verif4\": \"La contraseña deberá tener al menos un número.\",\n",
    "        \"verif5\": \"La contraseña deberá tener al menos un caracter especial.\",\n",
    "        \"verif6\": \"La contraseña no deberá tener espacios en blanco.\",\n",
    "        \"verif7\": \"La contraseña no deberá tener caracteres repetidos.\"}\n",
    "    \n",
    "    verifs = {\"verif1\" : len(password) >= 8,\n",
    "    \"verif2\" : any(letter.isupper() for letter in password),\n",
    "    \"verif3\" : any(letter.islower() for letter in password),\n",
    "    \"verif4\" : any(letter.isdigit() for letter in password),\n",
    "    \"verif5\" : not(all(letter.isalnum() for letter in password)),\n",
    "    \"verif6\" : not(all(letter.isspace() for letter in password)),\n",
    "    \"verif7\" : all(value <=1 for value in {letter: password.count(letter) for letter in password}.values())}\n",
    "\n",
    "    if all(verifs.values()):\n",
    "        print(\"La contraseña es segura\")\n",
    "        return True\n",
    "    else:\n",
    "        print(\"La contraseña no cumple las siguientes condiciones:\\n\")\n",
    "        print(\"\\n\".join([conditions.get(key) for key, value in verifs.items() if not(value)]))\n",
    "        return False\n",
    "\n",
    "verificar_seguridad_contraseña(\"Hackio+2024\")"
   ]
  }
 ],
 "metadata": {
  "kernelspec": {
   "display_name": "maven_course",
   "language": "python",
   "name": "maven_course"
  },
  "language_info": {
   "codemirror_mode": {
    "name": "ipython",
    "version": 3
   },
   "file_extension": ".py",
   "mimetype": "text/x-python",
   "name": "python",
   "nbconvert_exporter": "python",
   "pygments_lexer": "ipython3",
   "version": "3.12.3"
  }
 },
 "nbformat": 4,
 "nbformat_minor": 2
}
