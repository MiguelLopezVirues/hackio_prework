{
 "cells": [
  {
   "cell_type": "markdown",
   "metadata": {},
   "source": [
    "\n",
    "<div style=\"text-align: center;\">\n",
    "  <img src=\"https://github.com/Hack-io-Data/Imagenes/blob/main/01-LogosHackio/logo_celeste@4x.png?raw=true\" alt=\"esquema\" />\n",
    "</div>"
   ]
  },
  {
   "cell_type": "markdown",
   "metadata": {},
   "source": [
    "#### 1. Escribe una función sin parámetros que imprima el siguiente mensaje \"¡Hola! Bienvenido.\"\n"
   ]
  },
  {
   "cell_type": "code",
   "execution_count": 50,
   "metadata": {},
   "outputs": [
    {
     "name": "stdout",
     "output_type": "stream",
     "text": [
      "¡Hola! Bienvenido\n"
     ]
    }
   ],
   "source": [
    "def saludo():\n",
    "    \"\"\"\n",
    "    Imprime un saludo predefinido para el usuario.\n",
    "\n",
    "    Params:\n",
    "        No recibe ningún parámetro.\n",
    "\n",
    "    Returns:\n",
    "        No devuelve ningún valor. Solo imprime el mensaje en la pantalla.\n",
    "    \"\"\"\n",
    "    print(\"¡Hola! Bienvenido\")\n",
    "\n",
    "saludo()"
   ]
  },
  {
   "cell_type": "markdown",
   "metadata": {},
   "source": [
    "#### 2. Escribe una función que reciba dos parámetros y devuelva la suma de ambos.\n"
   ]
  },
  {
   "cell_type": "code",
   "execution_count": 45,
   "metadata": {},
   "outputs": [
    {
     "data": {
      "text/plain": [
       "4"
      ]
     },
     "execution_count": 45,
     "metadata": {},
     "output_type": "execute_result"
    }
   ],
   "source": [
    "def suma(a,b):\n",
    "    \"\"\"\n",
    "    Devuelve la suma de 2 números.\n",
    "\n",
    "    Params:\n",
    "        a (int, float): El primer número a sumar.\n",
    "        b (int, float): El segundo número a sumar.\n",
    "\n",
    "    Returns:\n",
    "        int o float: La suma de los dos números proporcionados como argumentos.\n",
    "    \"\"\"\n",
    "    try:    \n",
    "        return a + b \n",
    "    except: \n",
    "            print(\"Los valores introducidos no son válidos.\")\n",
    "\n",
    "suma(2,2)"
   ]
  },
  {
   "cell_type": "markdown",
   "metadata": {},
   "source": [
    "#### 3. Escribe una función que reciba un número y devuelva True si es par, False si no lo es."
   ]
  },
  {
   "cell_type": "code",
   "execution_count": 44,
   "metadata": {},
   "outputs": [
    {
     "data": {
      "text/plain": [
       "True"
      ]
     },
     "execution_count": 44,
     "metadata": {},
     "output_type": "execute_result"
    }
   ],
   "source": [
    "def even_odd(number):\n",
    "    \"\"\"\n",
    "    Indica mediante booleano (True o False) si el número introducido es par.\n",
    "\n",
    "    Params:\n",
    "        number (int, float): El número a comprobar.\n",
    "\n",
    "    Returns:\n",
    "        bool: Resultado de la operación booleana.\n",
    "    \"\"\"\n",
    "    try:\n",
    "        return number % 2 == 0\n",
    "    except:\n",
    "        print(\"El valor introducido no es válido.\")\n",
    "\n",
    "even_odd(4)"
   ]
  },
  {
   "cell_type": "markdown",
   "metadata": {},
   "source": [
    "#### 4. Escribe un función que devuelva un saludo personalizado a una persona dado su nombre. \n"
   ]
  },
  {
   "cell_type": "code",
   "execution_count": 43,
   "metadata": {},
   "outputs": [
    {
     "name": "stdout",
     "output_type": "stream",
     "text": [
      "¡Hola! ¿Qué tal 3.2? Me alegro de verte :D\n"
     ]
    }
   ],
   "source": [
    "def saludo_personal(nombre=\"amigo\"):\n",
    "    \"\"\"\n",
    "    Imprime en pantalla un saludo con el nombre proporcionado.\n",
    "\n",
    "    Params:\n",
    "        nombre (str): el nombre a introducir en el texto.\n",
    "\n",
    "    Returns:\n",
    "        No devuelve ningún valor.\n",
    "    \"\"\"\n",
    "    print(f\"¡Hola! ¿Qué tal {nombre}? Me alegro de verte :D\")\n",
    "\n",
    "saludo_personal(\"Alberto\")"
   ]
  },
  {
   "cell_type": "markdown",
   "metadata": {},
   "source": [
    "#### 5. Escribe una función que sume todos los números que reciba como argumento. La función debe recibir una cantidad variable de argumentos y devolver la suma de todos ellos."
   ]
  },
  {
   "cell_type": "code",
   "execution_count": 42,
   "metadata": {},
   "outputs": [
    {
     "data": {
      "text/plain": [
       "1125"
      ]
     },
     "execution_count": 42,
     "metadata": {},
     "output_type": "execute_result"
    }
   ],
   "source": [
    "def long_sum(*numbers):\n",
    "    \"\"\"\n",
    "    Devuelve el resultado de sumar todos los números introducidos como argumentos.\n",
    "\n",
    "    Params:\n",
    "        *numbers (int, float): Números a sumar.\n",
    "\n",
    "    Returns:\n",
    "        int, float: suma de los números introducidos.\n",
    "    \"\"\"\n",
    "    try:\n",
    "        return sum(numbers)\n",
    "    except:\n",
    "        print(\"Los valores introducidos no son válidos.\")\n",
    "\n",
    "long_sum(4,5,6,10,100,1000)"
   ]
  },
  {
   "cell_type": "markdown",
   "metadata": {},
   "source": [
    "#### 6. Escribe una función que cuente las letras de una palabra y devuelva un diccionario con la cantidad de veces que se repite cada letra \n"
   ]
  },
  {
   "cell_type": "code",
   "execution_count": 40,
   "metadata": {},
   "outputs": [
    {
     "data": {
      "text/plain": [
       "{}"
      ]
     },
     "execution_count": 40,
     "metadata": {},
     "output_type": "execute_result"
    }
   ],
   "source": [
    "def letter_count(word):\n",
    "    \"\"\"\n",
    "    Dada una palabra, devuelve un diccionario con el número de veces que se repite cada una de sus letras.\n",
    "\n",
    "    Params:\n",
    "        word (str): Palabra con letras a contar.\n",
    "\n",
    "    Returns:\n",
    "        dict: diccionario con la cuenta de cada letra.\n",
    "    \"\"\"\n",
    "    try:\n",
    "        return {letter: word.lower().count(letter) for letter in set(word.lower()) if letter.isalpha()}\n",
    "    except:\n",
    "        print(\"No has introducido una cadena de texto.\")\n",
    "\n",
    "letter_count(\"200\")"
   ]
  },
  {
   "cell_type": "markdown",
   "metadata": {},
   "source": [
    "#### 7. Escribe un función recursiva para calcular el factorial de un número entero no negativo."
   ]
  },
  {
   "cell_type": "code",
   "execution_count": 36,
   "metadata": {},
   "outputs": [
    {
     "name": "stdout",
     "output_type": "stream",
     "text": [
      "El número introducido no es entero positivo.\n"
     ]
    }
   ],
   "source": [
    "def factorial(number):\n",
    "    \"\"\"\n",
    "    Dada un número entero no negativo, calcula el resultado de su factorial.\n",
    "\n",
    "    Params:\n",
    "        number (int).\n",
    "\n",
    "    Returns:\n",
    "        int.\n",
    "    \"\"\"\n",
    "    try:\n",
    "        if number == 1:\n",
    "            return number\n",
    "        else:\n",
    "            number_list = range(1,number+1)\n",
    "            return number_list[-1] * factorial(number_list[-2])\n",
    "    except:\n",
    "        print(\"El número introducido no es entero positivo.\")\n",
    "    \n"
   ]
  },
  {
   "cell_type": "markdown",
   "metadata": {},
   "source": [
    "#### 8. Escribe una función que tome dos parámetros: `figura` (una cadena que puede ser `\"rectangulo\"`, `\"circulo\"` o `\"triangulo\"`) y `datos` (una tupla con los datos necesarios para calcular el área de la figura). "
   ]
  },
  {
   "cell_type": "code",
   "execution_count": 52,
   "metadata": {},
   "outputs": [
    {
     "data": {
      "text/plain": [
       "3.1415"
      ]
     },
     "execution_count": 52,
     "metadata": {},
     "output_type": "execute_result"
    }
   ],
   "source": [
    "def area(figura,**datos):\n",
    "    \"\"\"\n",
    "    Calcula el area de un rectángulo, circulo o cuadrado, en base a las medidas de su geometría unidimensional.\n",
    "\n",
    "    Rectangulo: {lado}\n",
    "    Circulo: {radio}\n",
    "    Triángulo: {base,altura}\n",
    "\n",
    "    En su ausencia, las medidas por defecto son de magnitud 1.\n",
    "\n",
    "    Params:\n",
    "        figura (str, default='rectangulo'): Figura geométrica de area a calcular.\n",
    "        **datos (int,float, default=1): Medidas de su geometría.\n",
    "\n",
    "    Returns:\n",
    "        int, float: area resultante.\n",
    "    \"\"\"\n",
    "    if figura == \"triangulo\":\n",
    "        return datos.get(\"base\",1)*datos.get(\"altura\",1)/2\n",
    "    elif figura == \"circulo\":\n",
    "        return 3.1415*datos.get(\"radio\",1)**2\n",
    "    else:\n",
    "        return datos.get(\"lado\",1)**2\n",
    "    \n",
    "area(\"circulo\",base=2,altura=5)"
   ]
  },
  {
   "cell_type": "markdown",
   "metadata": {},
   "source": [
    "#### 9. Escribe una función que tome una lista de números como parámetro y devuelva el número más grande de la lista. No utilices la función `max()` de Python en tu solución."
   ]
  },
  {
   "cell_type": "code",
   "execution_count": 30,
   "metadata": {},
   "outputs": [
    {
     "data": {
      "text/plain": [
       "4"
      ]
     },
     "execution_count": 30,
     "metadata": {},
     "output_type": "execute_result"
    }
   ],
   "source": [
    "def biggest(numbers = []):\n",
    "    \"\"\"\n",
    "    Devuelve el número más grande de la lista\n",
    "\n",
    "    Params:\n",
    "        numbers (list int, float): Numeros donde encontrar el mayor.\n",
    "\n",
    "    Returns:\n",
    "        int, float.\n",
    "    \"\"\"\n",
    "    return sorted(numbers)[-1]\n",
    "\n",
    "biggest(numbers = [1,2,3,4])"
   ]
  },
  {
   "cell_type": "markdown",
   "metadata": {},
   "source": [
    "#### 10. Escribe una función que tome una cadena como parámetro un texto y devuelva `True` si la cadena es un palíndromo (se lee igual de izquierda a derecha que de derecha a izquierda), y `False` en caso contrario. Ignora los espacios y considera mayúsculas y minúsculas de manera insensible.\n"
   ]
  },
  {
   "cell_type": "code",
   "execution_count": 53,
   "metadata": {},
   "outputs": [
    {
     "data": {
      "text/plain": [
       "True"
      ]
     },
     "execution_count": 53,
     "metadata": {},
     "output_type": "execute_result"
    }
   ],
   "source": [
    "def palindromo(texto):\n",
    "    \"\"\"\n",
    "    Devuelve True o False tras comprobar si la cadena de texto normal e invertida son iguales.\n",
    "\n",
    "    Params:\n",
    "        texto (str).\n",
    "\n",
    "    Returns:\n",
    "        bool.\n",
    "    \"\"\"\n",
    "    try:\n",
    "        return texto.lower().replace(\" \",\"\") == texto.lower().replace(\" \",\"\")[::-1]\n",
    "    except:\n",
    "        print(\"No ha introducido una cadena de texto\")\n",
    "\n",
    "palindromo(\"Ana\")"
   ]
  },
  {
   "cell_type": "markdown",
   "metadata": {},
   "source": [
    "#### 11. Escribe una función que tome una cadena como parámetro y devuelva dos valores: la cantidad de vocales y la cantidad de consonantes presentes en la cadena. Ignora los espacios y considera mayúsculas y minúsculas de manera insensible.\n"
   ]
  },
  {
   "cell_type": "code",
   "execution_count": 54,
   "metadata": {},
   "outputs": [
    {
     "data": {
      "text/plain": [
       "(4, 6)"
      ]
     },
     "execution_count": 54,
     "metadata": {},
     "output_type": "execute_result"
    }
   ],
   "source": [
    "def vowel_consonant(cadena):\n",
    "    \"\"\"\n",
    "    Realiza un conteo de vocales y consonantes en una cadena de texto.\n",
    "\n",
    "    Params:\n",
    "        texto (str).\n",
    "\n",
    "    Returns:\n",
    "        tuple, int.\n",
    "    \"\"\"\n",
    "    try:\n",
    "        vowel_list = ['a','e','i','o','u']\n",
    "        vowels = [letter for letter in cadena.lower() if letter in vowel_list]\n",
    "        consonants = [letter for letter in cadena.lower() if (letter.isalpha() and letter not in vowel_list)]\n",
    "        return len(vowels), len(consonants)\n",
    "    except:\n",
    "        print(\"No ha introducido una cadena de texto\")\n",
    "\n",
    "vowel_consonant(\"Mucho texto\")"
   ]
  }
 ],
 "metadata": {
  "kernelspec": {
   "display_name": "maven_course",
   "language": "python",
   "name": "maven_course"
  },
  "language_info": {
   "codemirror_mode": {
    "name": "ipython",
    "version": 3
   },
   "file_extension": ".py",
   "mimetype": "text/x-python",
   "name": "python",
   "nbconvert_exporter": "python",
   "pygments_lexer": "ipython3",
   "version": "3.12.3"
  }
 },
 "nbformat": 4,
 "nbformat_minor": 2
}
