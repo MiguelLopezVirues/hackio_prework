{
 "cells": [
  {
   "cell_type": "markdown",
   "metadata": {},
   "source": [
    "<div style=\"text-align: center;\">\n",
    "  <img src=\"https://github.com/Hack-io-Data/Imagenes/blob/main/01-LogosHackio/logo_celeste@4x.png?raw=true\" alt=\"logo hack(io)\" />\n",
    "</div>"
   ]
  },
  {
   "cell_type": "markdown",
   "metadata": {},
   "source": [
    "####  1. Genera una lista de números del 0 al 4 y luego imprime cada número en la lista usando un `bucle for`. "
   ]
  },
  {
   "cell_type": "code",
   "execution_count": 4,
   "metadata": {},
   "outputs": [
    {
     "name": "stdout",
     "output_type": "stream",
     "text": [
      "0\n",
      "1\n",
      "2\n",
      "3\n",
      "4\n"
     ]
    }
   ],
   "source": [
    "lista = [i for i in range(5)]\n",
    "for num in lista:\n",
    "    print(num)"
   ]
  },
  {
   "cell_type": "markdown",
   "metadata": {},
   "source": [
    "#### 2. Itera sobre una lista de frutas y muestra cada fruta en mayúsculas. \n"
   ]
  },
  {
   "cell_type": "code",
   "execution_count": 5,
   "metadata": {},
   "outputs": [
    {
     "name": "stdout",
     "output_type": "stream",
     "text": [
      "MANZANA\n",
      "PERA\n",
      "MANGO\n",
      "FRESA\n",
      "PIÑA\n"
     ]
    }
   ],
   "source": [
    "frutas = ['manzana', 'pera', 'mango', 'fresa', 'piña']\n",
    "for fruta in frutas:\n",
    "    print(fruta.upper())"
   ]
  },
  {
   "cell_type": "markdown",
   "metadata": {},
   "source": [
    "####  3. Genera un bucle while que imprima los números del 0 al 4. \n"
   ]
  },
  {
   "cell_type": "code",
   "execution_count": 6,
   "metadata": {},
   "outputs": [
    {
     "name": "stdout",
     "output_type": "stream",
     "text": [
      "0\n",
      "1\n",
      "2\n",
      "3\n",
      "4\n"
     ]
    }
   ],
   "source": [
    "i = 0\n",
    "while i < 5:\n",
    "    print(i)\n",
    "    i += 1"
   ]
  },
  {
   "cell_type": "markdown",
   "metadata": {},
   "source": [
    "#### 4. Genera un bucle del 0 al 9, pero que se detenga en el 5.\n"
   ]
  },
  {
   "cell_type": "code",
   "execution_count": 7,
   "metadata": {},
   "outputs": [
    {
     "name": "stdout",
     "output_type": "stream",
     "text": [
      "0\n",
      "1\n",
      "2\n",
      "3\n",
      "4\n",
      "5\n"
     ]
    }
   ],
   "source": [
    "for num in range(10):\n",
    "    print(num)\n",
    "    if num == 5:\n",
    "        break"
   ]
  },
  {
   "cell_type": "markdown",
   "metadata": {},
   "source": [
    "#### 5. Recorre los números del 0 al 9 e imprime solo los números impares."
   ]
  },
  {
   "cell_type": "code",
   "execution_count": 10,
   "metadata": {},
   "outputs": [
    {
     "name": "stdout",
     "output_type": "stream",
     "text": [
      "1\n",
      "3\n",
      "5\n",
      "7\n",
      "9\n"
     ]
    }
   ],
   "source": [
    "for num in range(10):\n",
    "    if num % 2 != 0:\n",
    "        print(num)"
   ]
  },
  {
   "cell_type": "markdown",
   "metadata": {},
   "source": [
    "#### 6. Dada la lista `[10, 20, 30, 40, 50]`, calcula la suma de todos los elementos usando un bucle `for`."
   ]
  },
  {
   "cell_type": "code",
   "execution_count": 9,
   "metadata": {},
   "outputs": [
    {
     "name": "stdout",
     "output_type": "stream",
     "text": [
      "150\n"
     ]
    }
   ],
   "source": [
    "i = 0\n",
    "lista = [10,20,30,40,50]\n",
    "for num in lista:\n",
    "    i += num\n",
    "print(i)"
   ]
  },
  {
   "cell_type": "markdown",
   "metadata": {},
   "source": [
    "#### 7. Dada la cadena `\"Hola mundo\"`, cuenta cuántas veces aparecen las vocales (`a`, `e`, `i`, `o`, `u`) usando un bucle `for`.\n"
   ]
  },
  {
   "cell_type": "code",
   "execution_count": 11,
   "metadata": {},
   "outputs": [
    {
     "name": "stdout",
     "output_type": "stream",
     "text": [
      "4\n"
     ]
    }
   ],
   "source": [
    "vowel_count = 0\n",
    "for letter in 'Hola mundo':\n",
    "    if letter in 'aeiou':\n",
    "        vowel_count += 1\n",
    "print(vowel_count)"
   ]
  },
  {
   "cell_type": "markdown",
   "metadata": {},
   "source": [
    "#### 8. Dada la cadena `\"Python\"`, usa un bucle `for` para imprimir los caracteres en orden inverso (`n`, `o`, `h`, `t`, `y`, `P`).\n"
   ]
  },
  {
   "cell_type": "code",
   "execution_count": 14,
   "metadata": {},
   "outputs": [
    {
     "name": "stdout",
     "output_type": "stream",
     "text": [
      "n\n",
      "o\n",
      "h\n",
      "t\n",
      "y\n",
      "P\n"
     ]
    }
   ],
   "source": [
    "for letter in 'Python'[::-1]:\n",
    "    print(letter)"
   ]
  },
  {
   "cell_type": "markdown",
   "metadata": {},
   "source": [
    "#### 9. Dada la lista `[1, 2, 3, 4, 5]`, multiplica todos sus elementos usando un bucle `for` y almacena los resultados en una lista nueva. \n"
   ]
  },
  {
   "cell_type": "code",
   "execution_count": 18,
   "metadata": {},
   "outputs": [
    {
     "data": {
      "text/plain": [
       "[10, 20, 30, 40, 50]"
      ]
     },
     "execution_count": 18,
     "metadata": {},
     "output_type": "execute_result"
    }
   ],
   "source": [
    "lista = [1,2,3,4,5]\n",
    "product_list = [num*10 for num in lista]\n",
    "product_list"
   ]
  },
  {
   "cell_type": "markdown",
   "metadata": {},
   "source": [
    "#### 10. Dada la lista `[1, 2, 3, 4, 5, 6, 7, 8, 9, 10]`, utiliza un bucle `for` para contar cuántos números son pares y cuántos son impares."
   ]
  },
  {
   "cell_type": "code",
   "execution_count": 19,
   "metadata": {},
   "outputs": [
    {
     "name": "stdout",
     "output_type": "stream",
     "text": [
      "Pares: 5\n",
      "Impares: 5\n"
     ]
    }
   ],
   "source": [
    "lista = [1, 2, 3, 4, 5, 6, 7, 8, 9, 10]\n",
    "even = 0\n",
    "odd = 0\n",
    "for num in lista:\n",
    "    if num % 2 == 0:\n",
    "        even += 1\n",
    "    else:\n",
    "        odd += 1\n",
    "print('Pares:', even)\n",
    "print('Impares:', odd)"
   ]
  },
  {
   "cell_type": "markdown",
   "metadata": {},
   "source": [
    "#### 11. Escribe un programa que solicite al usuario un número entero positivo (`n`) y calcule la suma de todos los números primos menores o iguales a `n`. Utiliza un bucle `for` para iterar sobre cada número y verifica si es primo."
   ]
  },
  {
   "cell_type": "code",
   "execution_count": 81,
   "metadata": {},
   "outputs": [
    {
     "data": {
      "text/plain": [
       "17"
      ]
     },
     "execution_count": 81,
     "metadata": {},
     "output_type": "execute_result"
    }
   ],
   "source": [
    "n = int(input('Escribe un número entero: '))\n",
    "lista = [num for num in range(2, n+1) if len([m for m in range(2, num) if num % m == 0]) == 0]\n",
    "sum(lista)"
   ]
  },
  {
   "cell_type": "markdown",
   "metadata": {},
   "source": [
    "#### 12. Escribe un programa que solicite al usuario un número entero positivo (`n`) y luego imprima un patrón de asteriscos como el siguiente ejemplo para `n = 5`:\n",
    "```\n",
    "*\n",
    "**\n",
    "***\n",
    "****\n",
    "*****\n",
    "```\n",
    "Utiliza un bucle `for` anidado para controlar la cantidad de asteriscos en cada línea."
   ]
  },
  {
   "cell_type": "code",
   "execution_count": 55,
   "metadata": {},
   "outputs": [
    {
     "name": "stdout",
     "output_type": "stream",
     "text": [
      "*\n",
      "**\n",
      "***\n",
      "****\n",
      "*****\n"
     ]
    }
   ],
   "source": [
    "n = int(input('Escribe un número entero: '))\n",
    "for i in range(0, 5):\n",
    "    imprimir = ''\n",
    "    for j in range(0, i+1):\n",
    "        imprimir = imprimir + '*'\n",
    "    print(imprimir)"
   ]
  },
  {
   "cell_type": "code",
   "execution_count": 54,
   "metadata": {},
   "outputs": [
    {
     "name": "stdout",
     "output_type": "stream",
     "text": [
      "*\n",
      "**\n",
      "***\n",
      "****\n",
      "*****\n",
      "******\n",
      "*******\n",
      "********\n",
      "*********\n",
      "**********\n"
     ]
    }
   ],
   "source": [
    "n = int(input('Escribe un número entero: '))\n",
    "for i in range(n):\n",
    "    print('*' * (i + 1))    "
   ]
  },
  {
   "cell_type": "markdown",
   "metadata": {},
   "source": [
    "#### 13. Dado un texto, utiliza un bucle `for` para contar cuántas veces aparece cada palabra en el texto. Ignora mayúsculas/minúsculas y los signos de puntuación."
   ]
  },
  {
   "cell_type": "code",
   "execution_count": 57,
   "metadata": {},
   "outputs": [],
   "source": [
    "text = \"\"\"Lorem ipsum dolor sit amet, consectetur adipiscing elit. Vestibulum condimentum ex at felis ullamcorper elementum. Sed quis finibus nibh. Phasellus vitae ornare justo. Fusce quam velit, feugiat nec purus non, accumsan imperdiet quam. Aenean venenatis est a turpis gravida egestas. Vivamus aliquet purus a elit vestibulum finibus. Ut faucibus tortor mi, sit amet tristique nisl faucibus quis.\n",
    "Nullam ut luctus lacus, eu dapibus arcu. Integer sagittis diam nunc, iaculis vehicula eros rutrum ac. Ut convallis erat ac justo pulvinar, euismod mollis nibh laoreet. Vestibulum ante ipsum primis in faucibus orci luctus et ultrices posuere cubilia curae; Aenean tincidunt sagittis nibh, nec molestie leo pulvinar et. In ac lacinia enim. In tempus vehicula mi non placerat.\n",
    "Sed congue diam metus, suscipit convallis odio sodales eget. Ut ac neque metus. Phasellus vitae neque a ante mollis egestas sed vel quam. Maecenas et orci mollis, efficitur ipsum in, ullamcorper ante. Etiam vestibulum dolor nec facilisis tempus. Etiam porttitor magna vel faucibus ullamcorper. Integer vel porttitor mi, sed faucibus ligula. Ut tempor metus id diam viverra, non egestas mi fermentum. Aliquam lobortis, risus eget sodales consectetur, ipsum nibh rutrum risus, eu aliquet lorem dui eu arcu. Sed lacus ante, auctor sed iaculis sit amet.\"\"\""
   ]
  },
  {
   "cell_type": "code",
   "execution_count": 68,
   "metadata": {},
   "outputs": [
    {
     "data": {
      "text/plain": [
       "{'velit': 0,\n",
       " 'aenean': 2,\n",
       " 'neque': 2,\n",
       " 'leo': 1,\n",
       " 'maecenas': 1,\n",
       " 'aliquam': 1,\n",
       " 'quam': 1,\n",
       " 'posuere': 1,\n",
       " 'felis': 1,\n",
       " 'imperdiet': 1,\n",
       " 'dui': 1,\n",
       " 'suscipit': 1,\n",
       " 'pulvinar': 1,\n",
       " 'gravida': 1,\n",
       " 'euismod': 1,\n",
       " 'feugiat': 1,\n",
       " 'dolor': 2,\n",
       " 'faucibus': 5,\n",
       " 'viverra': 0,\n",
       " 'iaculis': 2,\n",
       " 'efficitur': 1,\n",
       " 'nibh': 2,\n",
       " 'phasellus': 2,\n",
       " 'convallis': 2,\n",
       " 'egestas': 2,\n",
       " 'eros': 1,\n",
       " 'vehicula': 2,\n",
       " 'dapibus': 1,\n",
       " 'tristique': 1,\n",
       " 'nisl': 1,\n",
       " 'etiam': 2,\n",
       " 'lobortis': 0,\n",
       " 'ut': 5,\n",
       " 'diam': 3,\n",
       " 'sagittis': 2,\n",
       " 'sed': 6,\n",
       " 'metus': 1,\n",
       " 'justo': 1,\n",
       " 'a': 3,\n",
       " 'tincidunt': 1,\n",
       " 'ornare': 1,\n",
       " 'ligula': 0,\n",
       " 'fusce': 1,\n",
       " 'placerat': 0,\n",
       " 'lacinia': 1,\n",
       " 'orci': 2,\n",
       " 'magna': 1,\n",
       " 'id': 1,\n",
       " 'curae;': 1,\n",
       " 'ullamcorper': 2,\n",
       " 'tortor': 1,\n",
       " 'adipiscing': 1,\n",
       " 'lorem': 2,\n",
       " 'aliquet': 2,\n",
       " 'lacus': 1,\n",
       " 'ante': 2,\n",
       " 'non': 2,\n",
       " 'porttitor': 2,\n",
       " 'primis': 1,\n",
       " 'vestibulum': 4,\n",
       " 'vel': 3,\n",
       " 'risus': 1,\n",
       " 'at': 1,\n",
       " 'elit': 1,\n",
       " 'laoreet': 0,\n",
       " 'arcu': 0,\n",
       " 'vitae': 2,\n",
       " 'auctor': 1,\n",
       " 'nec': 3,\n",
       " 'sodales': 2,\n",
       " 'odio': 1,\n",
       " 'luctus': 2,\n",
       " 'ipsum': 4,\n",
       " 'est': 1,\n",
       " 'vivamus': 1,\n",
       " 'enim': 0,\n",
       " 'consectetur': 1,\n",
       " 'erat': 1,\n",
       " 'ex': 1,\n",
       " 'finibus': 1,\n",
       " 'venenatis': 1,\n",
       " 'in': 3,\n",
       " 'nullam': 1,\n",
       " 'nunc': 0,\n",
       " 'rutrum': 2,\n",
       " 'amet': 1,\n",
       " 'fermentum': 0,\n",
       " 'ultrices': 1,\n",
       " 'elementum': 0,\n",
       " 'tempus': 1,\n",
       " 'turpis': 1,\n",
       " 'purus': 2,\n",
       " 'sit': 3,\n",
       " 'condimentum': 1,\n",
       " 'et': 2,\n",
       " 'facilisis': 1,\n",
       " 'cubilia': 1,\n",
       " 'molestie': 1,\n",
       " 'congue': 1,\n",
       " 'quis': 1,\n",
       " 'ac': 3,\n",
       " 'accumsan': 1,\n",
       " 'mi': 2,\n",
       " 'eget': 1,\n",
       " 'eu': 3,\n",
       " 'integer': 2,\n",
       " 'mollis': 2,\n",
       " 'tempor': 1}"
      ]
     },
     "execution_count": 68,
     "metadata": {},
     "output_type": "execute_result"
    }
   ],
   "source": [
    "word_count = {}\n",
    "for word in set(text.replace(\",\",\"\").replace(\".\",\"\").lower().split()):\n",
    "    word_count.update({word: text.lower().split().count(word)})\n",
    "word_count"
   ]
  },
  {
   "cell_type": "code",
   "execution_count": 76,
   "metadata": {},
   "outputs": [
    {
     "data": {
      "text/plain": [
       "{'velit': 0,\n",
       " 'aenean': 2,\n",
       " 'neque': 2,\n",
       " 'leo': 1,\n",
       " 'maecenas': 1,\n",
       " 'aliquam': 1,\n",
       " 'quam': 1,\n",
       " 'posuere': 1,\n",
       " 'felis': 1,\n",
       " 'imperdiet': 1,\n",
       " 'dui': 1,\n",
       " 'suscipit': 1,\n",
       " 'pulvinar': 1,\n",
       " 'gravida': 1,\n",
       " 'euismod': 1,\n",
       " 'feugiat': 1,\n",
       " 'dolor': 2,\n",
       " 'faucibus': 5,\n",
       " 'viverra': 0,\n",
       " 'iaculis': 2,\n",
       " 'efficitur': 1,\n",
       " 'nibh': 2,\n",
       " 'phasellus': 2,\n",
       " 'convallis': 2,\n",
       " 'egestas': 2,\n",
       " 'eros': 1,\n",
       " 'vehicula': 2,\n",
       " 'dapibus': 1,\n",
       " 'tristique': 1,\n",
       " 'nisl': 1,\n",
       " 'etiam': 2,\n",
       " 'lobortis': 0,\n",
       " 'ut': 5,\n",
       " 'diam': 3,\n",
       " 'sagittis': 2,\n",
       " 'sed': 6,\n",
       " 'metus': 1,\n",
       " 'justo': 1,\n",
       " 'a': 3,\n",
       " 'tincidunt': 1,\n",
       " 'ornare': 1,\n",
       " 'ligula': 0,\n",
       " 'fusce': 1,\n",
       " 'placerat': 0,\n",
       " 'lacinia': 1,\n",
       " 'orci': 2,\n",
       " 'magna': 1,\n",
       " 'id': 1,\n",
       " 'curae;': 1,\n",
       " 'ullamcorper': 2,\n",
       " 'tortor': 1,\n",
       " 'adipiscing': 1,\n",
       " 'lorem': 2,\n",
       " 'aliquet': 2,\n",
       " 'lacus': 1,\n",
       " 'ante': 2,\n",
       " 'non': 2,\n",
       " 'porttitor': 2,\n",
       " 'primis': 1,\n",
       " 'vestibulum': 4,\n",
       " 'vel': 3,\n",
       " 'risus': 1,\n",
       " 'at': 1,\n",
       " 'elit': 1,\n",
       " 'laoreet': 0,\n",
       " 'arcu': 0,\n",
       " 'vitae': 2,\n",
       " 'auctor': 1,\n",
       " 'nec': 3,\n",
       " 'sodales': 2,\n",
       " 'odio': 1,\n",
       " 'luctus': 2,\n",
       " 'ipsum': 4,\n",
       " 'est': 1,\n",
       " 'vivamus': 1,\n",
       " 'enim': 0,\n",
       " 'consectetur': 1,\n",
       " 'erat': 1,\n",
       " 'ex': 1,\n",
       " 'finibus': 1,\n",
       " 'venenatis': 1,\n",
       " 'in': 3,\n",
       " 'nullam': 1,\n",
       " 'nunc': 0,\n",
       " 'rutrum': 2,\n",
       " 'amet': 1,\n",
       " 'fermentum': 0,\n",
       " 'ultrices': 1,\n",
       " 'elementum': 0,\n",
       " 'tempus': 1,\n",
       " 'turpis': 1,\n",
       " 'purus': 2,\n",
       " 'sit': 3,\n",
       " 'condimentum': 1,\n",
       " 'et': 2,\n",
       " 'facilisis': 1,\n",
       " 'cubilia': 1,\n",
       " 'molestie': 1,\n",
       " 'congue': 1,\n",
       " 'quis': 1,\n",
       " 'ac': 3,\n",
       " 'accumsan': 1,\n",
       " 'mi': 2,\n",
       " 'eget': 1,\n",
       " 'eu': 3,\n",
       " 'integer': 2,\n",
       " 'mollis': 2,\n",
       " 'tempor': 1}"
      ]
     },
     "execution_count": 76,
     "metadata": {},
     "output_type": "execute_result"
    }
   ],
   "source": [
    "word_count = {word: text.lower().split().count(word) for word in set(text.replace(\",\",\"\").replace(\".\",\"\").lower().split())}\n",
    "word_count"
   ]
  },
  {
   "cell_type": "markdown",
   "metadata": {},
   "source": [
    "#### 14. Escribe un programa que solicite al usuario dos números enteros positivos (`inicio` y `fin`, donde `inicio <= fin`) y luego calcule la suma de los números pares y la suma de los números impares en ese rango. Utiliza un bucle `for` para iterar sobre cada número y una estructura `if-else` para clasificar y sumar los números pares e impares."
   ]
  },
  {
   "cell_type": "code",
   "execution_count": 72,
   "metadata": {},
   "outputs": [
    {
     "name": "stdout",
     "output_type": "stream",
     "text": [
      "Suma de pares: 0\n",
      "Suma de impares: 5\n"
     ]
    }
   ],
   "source": [
    "inicio = int(input('Escribe un numero entero para el inicio: '))\n",
    "fin = int(input('Escribe un numero entero mayor que el anterior para el fin: '))\n",
    "suma_pares = 0\n",
    "suma_impares = 0\n",
    "for num in range(inicio, fin+1):\n",
    "    if num % 2 == 0:\n",
    "        suma_pares += num\n",
    "    else:\n",
    "        suma_impares += num\n",
    "\n",
    "print('Suma de pares:', suma_pares)\n",
    "print('Suma de impares:', suma_impares)"
   ]
  },
  {
   "cell_type": "markdown",
   "metadata": {},
   "source": [
    "#### 15. Escribe un programa que solicite al usuario un número entero positivo (`n`) y luego identifique todos los números primos menores o iguales a `n`. Para cada número, imprime si es primo o no usando un bucle `for` y una estructura `if-else` para verificar la condición de primalidad."
   ]
  },
  {
   "cell_type": "code",
   "execution_count": 80,
   "metadata": {},
   "outputs": [
    {
     "name": "stdout",
     "output_type": "stream",
     "text": [
      "El numero 2 es primo\n",
      "El numero 3 es primo\n",
      "El numero 4 no es primo\n",
      "El numero 5 es primo\n",
      "El numero 6 no es primo\n",
      "El numero 7 es primo\n",
      "El numero 8 no es primo\n",
      "El numero 9 no es primo\n",
      "El numero 10 no es primo\n"
     ]
    }
   ],
   "source": [
    "n = int(input('Escribe un número entero: '))\n",
    "for num in range(2, n+1):\n",
    "    if len([m for m in range(2, num) if num % m == 0]) == 0:\n",
    "        print(f\"El numero {num} es primo\")\n",
    "    else:\n",
    "        print(f\"El numero {num} no es primo\")"
   ]
  },
  {
   "cell_type": "markdown",
   "metadata": {},
   "source": [
    "#### 16.Dada una lista de precios `[100, 200, 300, 400, 500]`, aplica un descuento del 10% a todos los precios mayores a `250`. Imprime la lista actualizada de precios después de aplicar el descuento utilizando un bucle `for`. "
   ]
  },
  {
   "cell_type": "code",
   "execution_count": 82,
   "metadata": {},
   "outputs": [
    {
     "data": {
      "text/plain": [
       "[270.0, 360.0, 450.0]"
      ]
     },
     "execution_count": 82,
     "metadata": {},
     "output_type": "execute_result"
    }
   ],
   "source": [
    "lista_sin_descuento = [100, 200, 300, 400, 500]\n",
    "lista_con_descuento = [precio*0.9 for precio in lista_sin_descuento if precio > 250]\n",
    "lista_con_descuento"
   ]
  },
  {
   "cell_type": "markdown",
   "metadata": {},
   "source": [
    "#### 17. Dada una lista de calificaciones de estudiantes `[85, 92, 78, 90, 88]`, clasifica a cada estudiante como \"Aprobado\" si la calificación es mayor o igual a `80` y como \"Reprobado\" si es menor a `80`. Imprime el nombre de cada estudiante junto con su estado utilizando un bucle `for` y una estructura `if-else`.\n"
   ]
  },
  {
   "cell_type": "code",
   "execution_count": 83,
   "metadata": {},
   "outputs": [
    {
     "data": {
      "text/plain": [
       "{'Juan': 'Aprobado',\n",
       " 'Maria': 'Aprobado',\n",
       " 'Pedro': 'Reprobado',\n",
       " 'Ana': 'Aprobado',\n",
       " 'Luis': 'Aprobado'}"
      ]
     },
     "execution_count": 83,
     "metadata": {},
     "output_type": "execute_result"
    }
   ],
   "source": [
    "notas = [85, 92, 78, 90, 88]\n",
    "estudiantes = ['Juan', 'Maria', 'Pedro', 'Ana', 'Luis']\n",
    "resultado_evaluacion = {estudiante: 'Aprobado' if nota >= 80 else 'Reprobado' for estudiante, nota in zip(estudiantes, notas)}\n",
    "resultado_evaluacion"
   ]
  },
  {
   "cell_type": "markdown",
   "metadata": {},
   "source": [
    "\n",
    "#### 18. Escribe un programa que solicite al usuario dos números enteros positivos (`inicio`, `fin`) y otro número entero positivo (`divisor`). Encuentra el número más grande en el rango desde `inicio` hasta `fin` que sea divisible por `divisor`. Utiliza un bucle `for` y una estructura `if-else` para verificar y mantener el registro del número más grande divisible por el divisor dado.\n"
   ]
  },
  {
   "cell_type": "code",
   "execution_count": 3,
   "metadata": {},
   "outputs": [
    {
     "data": {
      "text/plain": [
       "98"
      ]
     },
     "execution_count": 3,
     "metadata": {},
     "output_type": "execute_result"
    }
   ],
   "source": [
    "inicio = int(input('Escribe un numero entero para el inicio: '))\n",
    "fin = int(input('Escribe un numero entero mayor que el anterior para el fin: '))\n",
    "divisor = int(input('Escribe un numero entero para como divisor: '))\n",
    "\n",
    "maximo_divisor = None\n",
    "for num in range(inicio, fin): \n",
    "    if num % divisor == 0:\n",
    "        maximo_divisor = num\n",
    "\n",
    "maximo_divisor"
   ]
  },
  {
   "cell_type": "code",
   "execution_count": 4,
   "metadata": {},
   "outputs": [
    {
     "data": {
      "text/plain": [
       "98"
      ]
     },
     "execution_count": 4,
     "metadata": {},
     "output_type": "execute_result"
    }
   ],
   "source": [
    "max([num for num in range(inicio, fin) if num % divisor == 0])"
   ]
  },
  {
   "cell_type": "markdown",
   "metadata": {},
   "source": []
  }
 ],
 "metadata": {
  "kernelspec": {
   "display_name": "maven_course",
   "language": "python",
   "name": "maven_course"
  },
  "language_info": {
   "codemirror_mode": {
    "name": "ipython",
    "version": 3
   },
   "file_extension": ".py",
   "mimetype": "text/x-python",
   "name": "python",
   "nbconvert_exporter": "python",
   "pygments_lexer": "ipython3",
   "version": "3.12.3"
  }
 },
 "nbformat": 4,
 "nbformat_minor": 2
}
